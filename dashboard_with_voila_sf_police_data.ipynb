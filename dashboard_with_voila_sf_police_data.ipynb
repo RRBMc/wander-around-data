{
 "cells": [
  {
   "cell_type": "code",
   "execution_count": 1,
   "id": "c7c633bb",
   "metadata": {},
   "outputs": [],
   "source": [
    "import voila\n",
    "import numpy as np\n",
    "import pandas as pd\n",
    "import folium"
   ]
  },
  {
   "cell_type": "code",
   "execution_count": 2,
   "id": "bb70c506",
   "metadata": {},
   "outputs": [],
   "source": [
    "df = pd.read_csv('preprocessed_SF_PD_data.csv')"
   ]
  },
  {
   "cell_type": "code",
   "execution_count": 3,
   "id": "ea8cdd83",
   "metadata": {},
   "outputs": [],
   "source": [
    "#df['Incident Datetime'] = pd.to_datetime(df['Incident Datetime'], format = '%Y/%m/%d %I:%M:%S %p')\n",
    "#df['Incident Date'] = pd.to_datetime(df['Incident Date'], format = '%Y/%m/%d')\n",
    "#df['Report Datetime'] = pd.to_datetime(df['Report Datetime'], format = '%Y/%m/%d %I:%M:%S %p')"
   ]
  },
  {
   "cell_type": "code",
   "execution_count": 4,
   "id": "9d52e41c",
   "metadata": {},
   "outputs": [],
   "source": [
    "df['Incident Day of Week'] = df['Incident Day of Week'].astype('category')\n",
    "df['Incident Subcategory'] = df['Incident Subcategory'].astype('category')"
   ]
  },
  {
   "cell_type": "code",
   "execution_count": 5,
   "id": "4d9e75ca",
   "metadata": {
    "scrolled": true
   },
   "outputs": [],
   "source": [
    "#df.drop(['Row ID', 'CAD Number', 'Incident ID', 'Incident Number', 'Incident Year', 'Filed Online', 'Incident Code', 'Incident Description', 'HSOC Zones as of 2018-06-05', 'Invest In Neighborhoods (IIN) Areas', 'ESNCAG - Boundary File', 'Current Supervisor Districts', 'Current Police Districts', 'Supervisor District', 'CNN', 'Report Type Code', 'Report Type Description', 'Civic Center Harm Reduction Project Boundary', 'Central Market/Tenderloin Boundary Polygon - Updated', 'Neighborhoods'], axis = 1, inplace = True)"
   ]
  },
  {
   "cell_type": "code",
   "execution_count": 6,
   "id": "c23dc524",
   "metadata": {},
   "outputs": [],
   "source": [
    "df.dropna(subset = ['Latitude', 'Longitude'], inplace = True)"
   ]
  },
  {
   "cell_type": "code",
   "execution_count": 7,
   "id": "85da3070",
   "metadata": {},
   "outputs": [],
   "source": [
    "df.sort_values('Incident Datetime', ascending = True, inplace = True)"
   ]
  },
  {
   "cell_type": "code",
   "execution_count": 8,
   "id": "4dc9ed5e",
   "metadata": {},
   "outputs": [],
   "source": [
    "df.rename(columns = {'Incident Category': 'Incident_Category'}, inplace = True)"
   ]
  },
  {
   "cell_type": "code",
   "execution_count": 9,
   "id": "3689e856",
   "metadata": {},
   "outputs": [],
   "source": [
    "import ipywidgets as widgets\n",
    "from ipywidgets import Layout"
   ]
  },
  {
   "cell_type": "code",
   "execution_count": 10,
   "id": "ad92c95d",
   "metadata": {},
   "outputs": [],
   "source": [
    "file = open(\"SF_IMAGE_1.PNG\", \"rb\")\n",
    "image = file.read()\n",
    "SF_I = widgets.Image(\n",
    "       value=image,\n",
    "       format='png',\n",
    "       width= '25%',\n",
    "       height=300,\n",
    ")"
   ]
  },
  {
   "cell_type": "code",
   "execution_count": 11,
   "id": "4fe81782",
   "metadata": {},
   "outputs": [],
   "source": [
    "file_1 = open(\"In-White-128-Γö¼┬½@2x.png\", \"rb\")\n",
    "image_1 = file_1.read()\n",
    "LI_1 = widgets.Image(\n",
    "       value=image_1,\n",
    "       format='png',\n",
    "       width=30,\n",
    "       height=30,\n",
    ")"
   ]
  },
  {
   "cell_type": "code",
   "execution_count": 12,
   "id": "f3c081eb",
   "metadata": {},
   "outputs": [
    {
     "data": {
      "text/html": [
       "<style>\n",
       ".title_bg{\n",
       "    width:auto;\n",
       "    background-color:#44428B;\n",
       "    color: #F4F7EB;\n",
       "    font-family: Rockwell;\n",
       "}\n",
       "\n",
       ".parentstyle > .p-Accordion-child > .p-Collapse-header{\n",
       "                                                background-image: linear-gradient(to right, rgba(68, 66, 139, 1), rgba(116, 138, 174, 1), rgba(116, 138, 174, 0.6));\n",
       "                                                color: #F4F7EB;\n",
       "                                                font-family: Rockwell;\n",
       "}\n",
       "\n",
       ".footer{\n",
       "    width:auto;\n",
       "    background-color: #748AAE;\n",
       "    color: #F4F7EB;\n",
       "    font-family: Rockwell;\n",
       "}\n",
       ".map_title_bg{\n",
       "    width:auto;\n",
       "    background-image: linear-gradient(to right, rgba(68, 66, 139, 1), rgba(116, 138, 174, 1), rgba(116, 138, 174, 0.6));\n",
       "    color: #F4F7EB;\n",
       "    font-family: Rockwell;\n",
       "}\n",
       "</style>\n"
      ],
      "text/plain": [
       "<IPython.core.display.HTML object>"
      ]
     },
     "metadata": {},
     "output_type": "display_data"
    }
   ],
   "source": [
    "%%html\n",
    "<style>\n",
    ".title_bg{\n",
    "    width:auto;\n",
    "    background-color:#44428B;\n",
    "    color: #F4F7EB;\n",
    "    font-family: Rockwell;\n",
    "}\n",
    "\n",
    ".parentstyle > .p-Accordion-child > .p-Collapse-header{\n",
    "                                                background-image: linear-gradient(to right, rgba(68, 66, 139, 1), rgba(116, 138, 174, 1), rgba(116, 138, 174, 0.6));\n",
    "                                                color: #F4F7EB;\n",
    "                                                font-family: Rockwell;\n",
    "}\n",
    "\n",
    ".footer{\n",
    "    width:auto;\n",
    "    background-color: #748AAE;\n",
    "    color: #F4F7EB;\n",
    "    font-family: Rockwell;\n",
    "}\n",
    ".map_title_bg{\n",
    "    width:auto;\n",
    "    background-image: linear-gradient(to right, rgba(68, 66, 139, 1), rgba(116, 138, 174, 1), rgba(116, 138, 174, 0.6));\n",
    "    color: #F4F7EB;\n",
    "    font-family: Rockwell;\n",
    "}\n",
    "</style>"
   ]
  },
  {
   "cell_type": "code",
   "execution_count": 35,
   "id": "51809b3f",
   "metadata": {},
   "outputs": [
    {
     "data": {
      "text/html": [
       "<style>\n",
       ".body_bg_1{\n",
       "    font-family: Rockwell;\n",
       "    background-color: #F4F7EB;\n",
       "    color: #748AAE;\n",
       "}\n",
       "\n",
       ".widget-select > select {color: #F4F7EB;\n",
       "                         background-image: linear-gradient(to right, rgba(68, 66, 139, 1), rgba(116, 138, 174, 1), rgba(116, 138, 174, 0.6));\n",
       "                         font-family: Rockwell;\n",
       "}   \n",
       "\n",
       "</style>\n"
      ],
      "text/plain": [
       "<IPython.core.display.HTML object>"
      ]
     },
     "metadata": {},
     "output_type": "display_data"
    }
   ],
   "source": [
    "%%html\n",
    "<style>\n",
    ".body_bg_1{\n",
    "    font-family: Rockwell;\n",
    "    background-color: #F4F7EB;\n",
    "    color: #748AAE;\n",
    "}\n",
    "\n",
    ".widget-select > select {color: #F4F7EB;\n",
    "                         background-image: linear-gradient(to right, rgba(68, 66, 139, 1), rgba(116, 138, 174, 1), rgba(116, 138, 174, 0.6));\n",
    "                         font-family: Rockwell;\n",
    "}   \n",
    "\n",
    "</style>"
   ]
  },
  {
   "cell_type": "code",
   "execution_count": 27,
   "id": "6cf49520",
   "metadata": {},
   "outputs": [],
   "source": [
    "#Accordion widget containing introduction to dashboard\n",
    "intro = widgets.Accordion([widgets.HTML(\n",
    "                                        value = \"<b>Intro</b><br/>This interactive dashboard was primarily created by utilising ipywidgets, folium, pandas and voila in order to unpack police incident data from the San Francisco Police Department. All visuals included draw solely from Open Source data made available by the City and County of San Francisco. See <a href=https://datasf.org/opendata/><font color='blue'>here</a> <font color='black'>to check out all its Open Source data for yourself.<br/><br/><b>Purpose</b><br/> The intent is to allow the user to easily:<br/> - visualise incident geography, frequency and density<br/> - select desired incident types and areas based on need\")],\n",
    "                          layout = Layout(#display = 'flex',\n",
    "                                          width = 'auto',\n",
    "                                          #border = '2px solid #44428B',\n",
    "                                          margin = '1% 0% 1% 0%'\n",
    "                                          ),\n",
    "                          selected_index = None,\n",
    "                          #titles = 'Dashboard Explainer'\n",
    ")\n",
    "intro.set_title(0, 'Dashboard Explainer')\n",
    "\n",
    "\n",
    "intro = intro.add_class('body_bg_1')\n",
    "intro = intro.add_class('parentstyle')"
   ]
  },
  {
   "cell_type": "code",
   "execution_count": 28,
   "id": "04538c60",
   "metadata": {},
   "outputs": [],
   "source": [
    "style = dict(description_width = 'initial')\n",
    "\n",
    "heading = widgets.HTML(\n",
    "        value= \"<p style='text-align:center'><b><font size = 5> V<font size = 3>isualising Criminal Incident<font size = 5> D<font size = 3>ata</b><br/><font size = 1> Source: 'San Francisco Police Department Incident Reports 2018 to Present' (as at 2 Jul 2022)</p>\",\n",
    "        style = style,\n",
    "        layout = Layout(width = '75%',\n",
    "                        #display = 'flex',\n",
    "                        #grid_area = 'header',\n",
    "                        border = '2px solid #F4F7EB', \n",
    "                        padding = '33px 33px 33px 33px',\n",
    "                        margin = '1% 0% 1% 1%',\n",
    "                       )\n",
    ")\n",
    "\n",
    "heading = heading.add_class('title_bg')\n",
    "\n",
    "footer = widgets.HTML(\n",
    "        value= \"<b><p style='text-align:center'><font size = 5>V<font size = 3>isualising <font size = 5>D<font size = 3>ata</b></p>\",\n",
    "        style = style,\n",
    "        layout = Layout(align_content = 'stretch',\n",
    "                        width = '70%',\n",
    "                        #grid_area = 'header', \n",
    "                        padding = '33px 33px 33px 33px',\n",
    "                        margin = '1% 1% 1% 1%',\n",
    "                        align_items = 'center'\n",
    "                       )\n",
    ")\n",
    "\n",
    "footer = footer.add_class('footer')\n",
    "\n",
    "footer_plus = widgets.HTML(\n",
    "        value= \"<p style='text-align:left'><font size = 1><a href=https://www.linkedin.com/in/russellmcgavock/><font color='white'>https://www.linkedin.com/in/russellmcgavock/</a></p>\",\n",
    "        style = style,\n",
    "        layout = Layout(#align_content = 'stretch',\n",
    "                        width = '30%',\n",
    "                        #grid_area = 'header', \n",
    "                        padding = '0px 33px 33px 33px',\n",
    "                        margin = '1% 1% 1% 2%',\n",
    "                       )\n",
    ")\n",
    "\n",
    "footer_plus = footer_plus.add_class('footer')\n",
    "linked_image = widgets.Box([LI_1],\n",
    "                           layout = Layout(align_items = 'baseline',\n",
    "                                           padding = '33px 33px 1px 33px',\n",
    "                                           margin = '1% 1% 1% 1%')\n",
    "                          )\n",
    "footer_plus_LI = widgets.VBox([linked_image, footer_plus])"
   ]
  },
  {
   "cell_type": "code",
   "execution_count": 29,
   "id": "61248da4",
   "metadata": {},
   "outputs": [],
   "source": [
    "map_title = widgets.HTML(value = \"<p style='text-align:center'><b>San Francisco Police Incidents</b><br/>\",\n",
    "                         layout = Layout(width = '30%',\n",
    "                                         padding = '3px 13px 3px 13px',\n",
    "                                         align_items = 'center')    \n",
    "                        )\n",
    "map_title_1 = widgets.HTML(value = \"- Map displays selected incident tally and location (see below for selection)<br/>\")\n",
    "map_title_combo = widgets.VBox([map_title, map_title_1])\n",
    "map_title = map_title.add_class('map_title_bg')"
   ]
  },
  {
   "cell_type": "code",
   "execution_count": 30,
   "id": "d5c06a06",
   "metadata": {},
   "outputs": [],
   "source": [
    "range_slider_style = dict(description_width = 'initial', handle_color = '#748AAE', text_color = '#748AAE')\n",
    "\n",
    "df['Incident Date'] = df['Incident Date'].astype(str)\n",
    "\n",
    "unique_dates = df['Incident Date'].unique()\n",
    "unique_dates2 = list(unique_dates)\n",
    "list_nums = list(range(1644))\n",
    "unique_dates1 = dict(zip(list_nums, unique_dates))\n",
    "\n",
    "\n",
    "index = (0, len(unique_dates1)-1)\n",
    "\n",
    "date_range = widgets.SelectionRangeSlider(\n",
    "        options=unique_dates2,\n",
    "        index= index,\n",
    "        description=\"<b><font color='#748AAE'>Incident Date Range:</b>\",\n",
    "        description_allow_html = True,\n",
    "        disabled=False,\n",
    "        style = range_slider_style,\n",
    "        orientation = 'horizontal',\n",
    "        continuos_update = False,\n",
    "        readout = True,\n",
    "        layout = Layout(width = '50%', \n",
    "                        grid_area = 'sidebar',\n",
    "                        padding = '3px 3px 3px 3px',\n",
    "                        margin = '1px 1px 0px 1px')\n",
    ")\n",
    "\n",
    "date_range = date_range.add_class('body_bg_1')"
   ]
  },
  {
   "cell_type": "code",
   "execution_count": 31,
   "id": "4efb9ae6",
   "metadata": {},
   "outputs": [],
   "source": [
    "unique_district = df['Police District'].unique()\n",
    "\n",
    "ud = sorted(unique_district)\n",
    "\n",
    "district = widgets.SelectMultiple(\n",
    "            options = ud,\n",
    "            value = ['Bayview', 'Tenderloin', 'Richmond', 'Southern'],\n",
    "            description = \"<b><font color='#748AAE'>Police District:</b>\",\n",
    "            description_allow_html = True,\n",
    "            disabled = False,\n",
    "            layout = Layout(width = '50%', height = '80px', display = 'flex'),\n",
    "            style = style,\n",
    ")\n",
    "\n",
    "district = district.add_class('body_bg_1')"
   ]
  },
  {
   "cell_type": "code",
   "execution_count": 32,
   "id": "5493b412",
   "metadata": {
    "scrolled": true
   },
   "outputs": [],
   "source": [
    "unique_incident = df['Incident_Category'].unique().astype('str')\n",
    "\n",
    "ui = sorted(unique_incident)\n",
    "\n",
    "incident = widgets.SelectMultiple(\n",
    "            options = ui,\n",
    "            value = ['Prostitution', 'Liquor Laws', 'Gambling'],\n",
    "            description = \"<b><font color='#748AAE'>Incident:</b>\",\n",
    "            description_allow_html = True,\n",
    "            disabled = False,\n",
    "            layout = Layout(width = '50%', height = '80px', display = 'flex'),\n",
    "            style = style\n",
    ")\n",
    "\n",
    "incident = incident.add_class('body_bg_1')"
   ]
  },
  {
   "cell_type": "code",
   "execution_count": 33,
   "id": "d61f1511",
   "metadata": {},
   "outputs": [],
   "source": [
    "from folium import plugins\n",
    "import matplotlib.pyplot as plt\n",
    "from matplotlib import cm\n",
    "from matplotlib import rcParams\n",
    "\n",
    "plt.rcParams['font.family'] = 'serif'\n",
    "plt.rcParams['font.serif'] = ['Rockwell', 'STIXGeneral', 'Calibri']\n",
    "\n",
    "uh = widgets.HBox([SF_I, heading], \n",
    "                  layout = Layout(width = '100%', display = 'flex',\n",
    "                  align_items = 'center')\n",
    "                 )\n",
    "foot = widgets.HBox([footer, footer_plus_LI],\n",
    "                    layout = Layout(display = 'flex',\n",
    "                                    align_items = 'center',\n",
    "                                    width = '100%')\n",
    "                   )\n",
    "foot = foot.add_class('footer')\n",
    "udr = widgets.HBox([date_range]) \n",
    "ue = widgets.HBox([incident, district],\n",
    "                 layout = Layout(width = '100%',\n",
    "                                 padding = '5px 5px 5px 5px')\n",
    "                 )\n",
    "ue = ue.add_class('body_bg_1')\n",
    "\n",
    "ue_help = widgets.Button(\n",
    "                        description = 'tips',\n",
    "                        style=dict(\n",
    "                                   button_color = \"#F4F7EB\",\n",
    "                                   text_color = '#748AAE',\n",
    "                                  ),\n",
    "                        disabled = False,\n",
    "                        icon = 'fa-question-circle-o',\n",
    "                        tooltip = \"Select multiple incidents and districts either by:\\n\\n> Hold Shift + Click (to select a list of rows) OR\\n> Hold Ctrl + Click (to select multiple specific rows)\",\n",
    "                        layout = Layout(width = '10%',\n",
    "                                        border = '1.5px solid #F4F7EB',\n",
    "                                        align_items = 'center',)\n",
    "                        )\n",
    "                     \n",
    "ue_combined = widgets.VBox([ue, ue_help],\n",
    "                           layout = Layout(display = 'flex',\n",
    "                                           align_items = 'flex-end',\n",
    "                                           width = '100%',\n",
    "                                           border = '1.5px solid #748AAE',\n",
    "                                           margin = '0% 0% 2% 0%',\n",
    "                                          )\n",
    "                          )\n",
    "\n",
    "def update_map(heading_s, district_s, incident_s, d_range):\n",
    "    low = d_range[0]\n",
    "    high = d_range[1]\n",
    "    \n",
    "    df_1 = df.loc[df['Incident_Category'].isin(np.array(incident_s))]\n",
    "    df_dist = df_1.loc[df['Police District'].isin(np.array(district_s))]\n",
    "    df_incident = df_dist.loc[df_dist['Incident Date'].between(low, high)]\n",
    "    \n",
    "    incident_unique = df_incident['Incident_Category'].value_counts()\n",
    "    incident_unique = incident_unique.reset_index()            \n",
    "        \n",
    "    dist_unique = df_incident['Police District'].value_counts()\n",
    "    dist_unique = dist_unique.reset_index()\n",
    "    \n",
    "    #set plot format\n",
    "    fig, (ax1, ax2) = plt.subplots(1, 2, constrained_layout = True, figsize=(20,10), facecolor = '#F4F7EB')\n",
    "    \n",
    "    #initial lat/long\n",
    "    latitude = 37.76\n",
    "    longitude = -122.4\n",
    "    \n",
    "    \n",
    "    #district overlay source\n",
    "    pd_overlay = 'Current_Police_Districts.geojson'\n",
    "    pd_names = ['district']\n",
    "    \n",
    "    #create map and display\n",
    "    sf_map = folium.Map(location = [latitude, longitude], zoom_start = 12)\n",
    "    \n",
    "    #function for GeoJson color assignment\n",
    "    def getcolor(feature):\n",
    "        if feature['properties']['district'] == 'SOUTHERN':\n",
    "            return 'maroon'\n",
    "        if feature['properties']['district'] == 'NORTHERN':\n",
    "            return 'darkgoldenrod'\n",
    "        if feature['properties']['district'] == 'CENTRAL':\n",
    "            return 'rebeccapurple'\n",
    "        if feature['properties']['district'] == 'PARK':\n",
    "            return 'cyan'\n",
    "        if feature['properties']['district'] == 'BAYVIEW':\n",
    "            return 'yellow'\n",
    "        if feature['properties']['district'] == 'TARAVAL':\n",
    "            return 'darkorange'\n",
    "        if feature['properties']['district'] == 'TENDERLOIN':\n",
    "            return 'fuchsia'\n",
    "        if feature['properties']['district'] == 'MISSION':\n",
    "            return 'chartreuse'\n",
    "        if feature['properties']['district'] == 'INGLESIDE':\n",
    "            return 'coral'\n",
    "        if feature['properties']['district'] == 'RICHMOND':\n",
    "            return 'lime'\n",
    "        else:\n",
    "            return 'gainsboro'\n",
    "    \n",
    "    #Geodata layer\n",
    "    G = folium.GeoJson(pd_overlay, name = 'PDs', smooth_factor = 1, \n",
    "                       style_function = lambda feature: {\n",
    "                                        'fillColor': getcolor(feature),\n",
    "                                        'weight': 0.5,\n",
    "                                        'color': 'aqua',\n",
    "                                        'fillOpacity': 0.4,},\n",
    "                      highlight_function = lambda x: {\n",
    "                                              'fillColor': 'whitesmoke',\n",
    "                                              'color': 'red',\n",
    "                                              'fillOpacity': 0.2,},\n",
    "    )\n",
    "    G.add_to(sf_map)\n",
    "    folium.features.GeoJsonPopup(fields = pd_names, aliases = ['District']).add_to(G)\n",
    "    \n",
    "    #clusters\n",
    "    loc_incidents = plugins.MarkerCluster(name = 'Show clusters').add_to(sf_map)\n",
    "    \n",
    "    folium.LayerControl().add_to(sf_map)\n",
    "    \n",
    "    #loop through the df and add each data point to the mark cluster\n",
    "    for lat, lng, label in zip(df_incident.Latitude, df_incident.Longitude, df_incident.Incident_Category):\n",
    "        folium.Marker(\n",
    "        location = [lat, lng],\n",
    "        icon = None,\n",
    "        popup = label,\n",
    "        ).add_to(loc_incidents)\n",
    "    #show map\n",
    "    \n",
    "    display(sf_map)\n",
    "    \n",
    "    display(ue_combined)\n",
    "    \n",
    "    #make plots\n",
    "    t = cm.get_cmap('viridis', 100)\n",
    "    v = cm.get_cmap('prism')\n",
    "    y = incident_unique['Incident_Category']\n",
    "    x = dist_unique['Police District']\n",
    "    rescale = lambda y: (y - np.min(y)) / (np.max(y) - np.min(y))\n",
    "    rescale = lambda x: (x - np.min(x)) / (np.max(x) - np.min(x))\n",
    "   \n",
    "    #subplot 1\n",
    "    ax1.bar(incident_unique['index'], incident_unique['Incident_Category'], \n",
    "            color = t(rescale(y)), \n",
    "            edgecolor = t(rescale(y)), \n",
    "            alpha = 0.5,\n",
    "            linewidth = 3)\n",
    "    ax1.set_title('Total Incidents by Incident Type (showing user-selections)', \n",
    "                  fontsize = 18,\n",
    "                  bbox={'facecolor':'white', \n",
    "                        'pad':0.3, \n",
    "                        'alpha': 1, \n",
    "                        'boxstyle': 'round', \n",
    "                        'edgecolor': '#44428B'},\n",
    "                  pad = 12\n",
    "                 )\n",
    "    ax1.set_xlabel(\"Selected Incident Type(s)\", fontsize = 17)\n",
    "    ax1.set_ylabel(\"No. of Incidents\", fontsize = 17)\n",
    "    ax1.tick_params(axis = 'y', which = 'both', labelsize = 15)\n",
    "    ax1.tick_params(axis = 'x', which = 'both', labelsize = 15, labelrotation = 22)\n",
    "\n",
    "    #subplot 2\n",
    "    ax2.bar(dist_unique['index'], dist_unique['Police District'],\n",
    "           color = t(rescale(x)), \n",
    "            edgecolor = t(rescale(x)), \n",
    "            alpha = 0.5,\n",
    "            linewidth = 3)\n",
    "    ax2.set_title('Total Incidents by Police District (showing user-selctions)', \n",
    "                  fontsize = 18,\n",
    "                  bbox={'facecolor':'white', \n",
    "                    'pad':0.3, \n",
    "                    'alpha': 1, \n",
    "                    'boxstyle': 'round', \n",
    "                    'edgecolor': '#44428B'},\n",
    "                  pad = 12\n",
    "                 )\n",
    "    ax2.set_xlabel(\"Selected Police District(s)\", fontsize = 17)\n",
    "    ax2.set_ylabel(\"No. of Incidents\", fontsize = 17)\n",
    "    ax2.tick_params(axis = 'y', which = 'both', labelsize = 15)\n",
    "    ax2.tick_params(axis = 'x', which = 'both', labelsize = 15, labelrotation = 22)\n",
    "    #ax2.xaxis.set_ticks(values_list)\n",
    "    #x2.set_xticklabels(dist_unique['index'], rotation=40, ha='right', rotation_mode = 'anchor')\n",
    "    \n",
    "    plt.suptitle(t = 'Exploring the Relationship Between Incident Type and Police District',\n",
    "                 y = 1.1,\n",
    "                 fontsize = 20,\n",
    "                 color = '#F4F7EB',\n",
    "                 bbox = {'facecolor':'#748AAE', \n",
    "                  'edgecolor': '#748AAE',\n",
    "                  'pad':0.3, \n",
    "                  'alpha': 0.6, \n",
    "                  'boxstyle': 'round'}, \n",
    "                 )"
   ]
  },
  {
   "cell_type": "code",
   "execution_count": 34,
   "id": "89b48ef8",
   "metadata": {
    "scrolled": false
   },
   "outputs": [
    {
     "data": {
      "application/vnd.jupyter.widget-view+json": {
       "model_id": "b38e26d57792476a98ce3fbf54c89361",
       "version_major": 2,
       "version_minor": 0
      },
      "text/plain": [
       "HBox(children=(Image(value=b'\\x89PNG\\r\\n\\x1a\\n\\x00\\x00\\x00\\rIHDR\\x00\\x00\\x02a\\x00\\x00\\x01)\\x08\\x06\\x00\\x00\\x00…"
      ]
     },
     "metadata": {},
     "output_type": "display_data"
    },
    {
     "data": {
      "application/vnd.jupyter.widget-view+json": {
       "model_id": "710c0f08edb447dba5f46aa109bd3c3c",
       "version_major": 2,
       "version_minor": 0
      },
      "text/plain": [
       "Accordion(children=(HTML(value=\"<b>Intro</b><br/>This interactive dashboard was primarily created by utilising…"
      ]
     },
     "metadata": {},
     "output_type": "display_data"
    },
    {
     "data": {
      "application/vnd.jupyter.widget-view+json": {
       "model_id": "0cb40dc7f33c4d1d82df9d6bae61e20e",
       "version_major": 2,
       "version_minor": 0
      },
      "text/plain": [
       "VBox(children=(VBox(children=(HTML(value=\"<p style='text-align:center'><b>San Francisco Police Incidents</b><b…"
      ]
     },
     "metadata": {},
     "output_type": "display_data"
    },
    {
     "data": {
      "application/vnd.jupyter.widget-view+json": {
       "model_id": "234ab8e67438457eaa5d83c621757913",
       "version_major": 2,
       "version_minor": 0
      },
      "text/plain": [
       "HBox(children=(HTML(value=\"<b><p style='text-align:center'><font size = 5>V<font size = 3>isualising <font siz…"
      ]
     },
     "metadata": {},
     "output_type": "display_data"
    }
   ],
   "source": [
    "w = widgets.interactive_output(update_map, {'heading_s': heading, 'district_s': district, 'incident_s': incident, 'd_range': date_range})\n",
    "w = widgets.VBox([map_title_combo, udr, w],\n",
    "             layout = Layout(width = 'auto',\n",
    "                             border = '2px solid #44428B',\n",
    "                             padding = '5px 5px 5px 5px')\n",
    "                )\n",
    "w = w.add_class('body_bg_1')\n",
    "display(uh, intro, w, foot)"
   ]
  },
  {
   "cell_type": "code",
   "execution_count": 85,
   "id": "57cbc15f",
   "metadata": {},
   "outputs": [],
   "source": [
    "#cm.get_cmap('terrain', 100)"
   ]
  },
  {
   "cell_type": "code",
   "execution_count": 86,
   "id": "bee191eb",
   "metadata": {},
   "outputs": [],
   "source": [
    "# df['Incident Time'] = pd.to_datetime(df['Incident Time'], format ='%H:%M:%S')"
   ]
  },
  {
   "cell_type": "code",
   "execution_count": 175,
   "id": "016cd16b",
   "metadata": {},
   "outputs": [],
   "source": [
    "# step_1 = df['Incident Time'].value_counts()\n",
    "# step_1 = step_1.reset_index()\n",
    "# step_1 = step_1.sort_values('index')\n",
    "# step_1 = step_1.rename(columns = {'Incident Time': 'Incident_count'})\n",
    "# step_1 = step_1.resample('H', on='index').sum()\n",
    "# Time_Interval = ['0000', '0100', '0200', '0300', '0400', '0500', '0600',\n",
    "#                 '0700', '0800', '0900', '1000', '1100', '1200', '1300', '1400', \n",
    "#                  '1500', '1600', '1700', '1800', '1900', '2000', '2100', '2200', '2300'\n",
    "#                 ]\n",
    "# step_1 = step_1.assign(Hour_Interval=Time_Interval)"
   ]
  },
  {
   "cell_type": "code",
   "execution_count": 177,
   "id": "29e94d49",
   "metadata": {
    "collapsed": true
   },
   "outputs": [
    {
     "data": {
      "text/html": [
       "<div>\n",
       "<style scoped>\n",
       "    .dataframe tbody tr th:only-of-type {\n",
       "        vertical-align: middle;\n",
       "    }\n",
       "\n",
       "    .dataframe tbody tr th {\n",
       "        vertical-align: top;\n",
       "    }\n",
       "\n",
       "    .dataframe thead th {\n",
       "        text-align: right;\n",
       "    }\n",
       "</style>\n",
       "<table border=\"1\" class=\"dataframe\">\n",
       "  <thead>\n",
       "    <tr style=\"text-align: right;\">\n",
       "      <th></th>\n",
       "      <th>Incident_count</th>\n",
       "      <th>Hour_Interval</th>\n",
       "    </tr>\n",
       "    <tr>\n",
       "      <th>index</th>\n",
       "      <th></th>\n",
       "      <th></th>\n",
       "    </tr>\n",
       "  </thead>\n",
       "  <tbody>\n",
       "    <tr>\n",
       "      <th>1900-01-01 00:00:00</th>\n",
       "      <td>31076</td>\n",
       "      <td>0000</td>\n",
       "    </tr>\n",
       "    <tr>\n",
       "      <th>1900-01-01 01:00:00</th>\n",
       "      <td>15316</td>\n",
       "      <td>0100</td>\n",
       "    </tr>\n",
       "    <tr>\n",
       "      <th>1900-01-01 02:00:00</th>\n",
       "      <td>13384</td>\n",
       "      <td>0200</td>\n",
       "    </tr>\n",
       "    <tr>\n",
       "      <th>1900-01-01 03:00:00</th>\n",
       "      <td>10825</td>\n",
       "      <td>0300</td>\n",
       "    </tr>\n",
       "    <tr>\n",
       "      <th>1900-01-01 04:00:00</th>\n",
       "      <td>8999</td>\n",
       "      <td>0400</td>\n",
       "    </tr>\n",
       "  </tbody>\n",
       "</table>\n",
       "</div>"
      ],
      "text/plain": [
       "                     Incident_count Hour_Interval\n",
       "index                                            \n",
       "1900-01-01 00:00:00           31076          0000\n",
       "1900-01-01 01:00:00           15316          0100\n",
       "1900-01-01 02:00:00           13384          0200\n",
       "1900-01-01 03:00:00           10825          0300\n",
       "1900-01-01 04:00:00            8999          0400"
      ]
     },
     "execution_count": 177,
     "metadata": {},
     "output_type": "execute_result"
    }
   ],
   "source": [
    "# step_1.head()"
   ]
  },
  {
   "cell_type": "code",
   "execution_count": 25,
   "id": "9a0e46a6",
   "metadata": {},
   "outputs": [],
   "source": [
    "# plt.stem(step_1['Hour_Interval'], \n",
    "#          step_1['Incident_count'],\n",
    "#         linefmt = ('deepskyblue', ':'),\n",
    "#         markerfmt = 'springgreen')\n",
    "# plt.style.use('seaborn-white')\n",
    "# plt.tick_params(axis = 'x', labelrotation = 90)\n",
    "# plt.xlabel('Time of Day (Hrs)')\n",
    "# plt.ylabel('No. of Incidents')\n",
    "# plt.title('Time of Recorded Police Incidents')\n",
    "\n",
    "\n",
    "    \n",
    "# plt.show();"
   ]
  }
 ],
 "metadata": {
  "kernelspec": {
   "display_name": "Python 3 (ipykernel)",
   "language": "python",
   "name": "python3"
  },
  "language_info": {
   "codemirror_mode": {
    "name": "ipython",
    "version": 3
   },
   "file_extension": ".py",
   "mimetype": "text/x-python",
   "name": "python",
   "nbconvert_exporter": "python",
   "pygments_lexer": "ipython3",
   "version": "3.9.12"
  }
 },
 "nbformat": 4,
 "nbformat_minor": 5
}
